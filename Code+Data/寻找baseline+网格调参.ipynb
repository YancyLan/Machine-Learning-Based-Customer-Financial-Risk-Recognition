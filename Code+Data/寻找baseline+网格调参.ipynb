{
 "cells": [
  {
   "cell_type": "code",
   "execution_count": 1,
   "id": "b250c76e",
   "metadata": {},
   "outputs": [],
   "source": [
    "import pandas as pd\n",
    "\n",
    "from sklearn.ensemble import BaggingClassifier,RandomForestClassifier,ExtraTreesClassifier,GradientBoostingClassifier\n",
    "from lightgbm import LGBMClassifier\n",
    "from xgboost import XGBClassifier\n",
    "from catboost import CatBoostClassifier\n",
    "from sklearn.base import BaseEstimator\n",
    "\n",
    "from sklearn.model_selection import GridSearchCV,train_test_split,cross_val_score\n",
    "\n",
    "from sklearn.metrics import confusion_matrix,f1_score,recall_score,auc\n",
    "from sklearn.model_selection import learning_curve"
   ]
  },
  {
   "cell_type": "code",
   "execution_count": 24,
   "id": "dedfecbe",
   "metadata": {},
   "outputs": [],
   "source": [
    "train = pd.read_csv('./赛道A/赛道A/df_train_a1.csv')\n",
    "train.fillna(0,inplace=True)"
   ]
  },
  {
   "cell_type": "markdown",
   "id": "a09dfff7",
   "metadata": {},
   "source": [
    "交叉验证"
   ]
  },
  {
   "cell_type": "code",
   "execution_count": 36,
   "id": "8cda8910",
   "metadata": {},
   "outputs": [],
   "source": [
    "'''交叉验证寻找基模型'''\n",
    "def find_base(data,model_list:list,cv=3):\n",
    "    x_train = data.drop('label',axis=1)\n",
    "    y_train = data.label\n",
    "    \n",
    "    result = list(map(lambda x:cross_val_score(x,x_train,y_train,cv=cv),model_list))\n",
    "    result = dict(zip(model_list,result))\n",
    "    \n",
    "    return result        "
   ]
  },
  {
   "cell_type": "code",
   "execution_count": 38,
   "id": "e352f45d",
   "metadata": {
    "scrolled": true
   },
   "outputs": [
    {
     "name": "stderr",
     "output_type": "stream",
     "text": [
      "C:\\Users\\blocks\\anaconda3\\envs\\lumos\\lib\\site-packages\\xgboost\\sklearn.py:888: UserWarning: The use of label encoder in XGBClassifier is deprecated and will be removed in a future release. To remove this warning, do the following: 1) Pass option use_label_encoder=False when constructing XGBClassifier object; and 2) Encode your labels (y) as integers starting with 0, i.e. 0, 1, 2, ..., [num_class - 1].\n",
      "  warnings.warn(label_encoder_deprecation_msg, UserWarning)\n"
     ]
    },
    {
     "name": "stdout",
     "output_type": "stream",
     "text": [
      "[11:43:35] WARNING: ..\\src\\learner.cc:1061: Starting in XGBoost 1.3.0, the default evaluation metric used with the objective 'binary:logistic' was changed from 'error' to 'logloss'. Explicitly set eval_metric if you'd like to restore the old behavior.\n"
     ]
    },
    {
     "name": "stderr",
     "output_type": "stream",
     "text": [
      "C:\\Users\\blocks\\anaconda3\\envs\\lumos\\lib\\site-packages\\xgboost\\sklearn.py:888: UserWarning: The use of label encoder in XGBClassifier is deprecated and will be removed in a future release. To remove this warning, do the following: 1) Pass option use_label_encoder=False when constructing XGBClassifier object; and 2) Encode your labels (y) as integers starting with 0, i.e. 0, 1, 2, ..., [num_class - 1].\n",
      "  warnings.warn(label_encoder_deprecation_msg, UserWarning)\n"
     ]
    },
    {
     "name": "stdout",
     "output_type": "stream",
     "text": [
      "[11:43:36] WARNING: ..\\src\\learner.cc:1061: Starting in XGBoost 1.3.0, the default evaluation metric used with the objective 'binary:logistic' was changed from 'error' to 'logloss'. Explicitly set eval_metric if you'd like to restore the old behavior.\n"
     ]
    },
    {
     "name": "stderr",
     "output_type": "stream",
     "text": [
      "C:\\Users\\blocks\\anaconda3\\envs\\lumos\\lib\\site-packages\\xgboost\\sklearn.py:888: UserWarning: The use of label encoder in XGBClassifier is deprecated and will be removed in a future release. To remove this warning, do the following: 1) Pass option use_label_encoder=False when constructing XGBClassifier object; and 2) Encode your labels (y) as integers starting with 0, i.e. 0, 1, 2, ..., [num_class - 1].\n",
      "  warnings.warn(label_encoder_deprecation_msg, UserWarning)\n"
     ]
    },
    {
     "name": "stdout",
     "output_type": "stream",
     "text": [
      "[11:43:37] WARNING: ..\\src\\learner.cc:1061: Starting in XGBoost 1.3.0, the default evaluation metric used with the objective 'binary:logistic' was changed from 'error' to 'logloss'. Explicitly set eval_metric if you'd like to restore the old behavior.\n"
     ]
    }
   ],
   "source": [
    "model_list = [RandomForestClassifier(),GradientBoostingClassifier(),BaggingClassifier(),\n",
    "              ExtraTreesClassifier(),LGBMClassifier(),XGBClassifier()]\n",
    "\n",
    "result = find_base(train,model_list)"
   ]
  },
  {
   "cell_type": "markdown",
   "id": "5e157995",
   "metadata": {},
   "source": [
    "网格搜索调参"
   ]
  },
  {
   "cell_type": "code",
   "execution_count": 11,
   "id": "10a2a5a7",
   "metadata": {},
   "outputs": [],
   "source": [
    "'''网格'''\n",
    "def grid_search(x_train,y_train,model:BaseEstimator,params,cv=5):\n",
    "    estimator = GridSearchCV(model,params,cv=cv)\n",
    "    estimator.fit(x_train,y_train)\n",
    "    \n",
    "    return estimator"
   ]
  },
  {
   "cell_type": "code",
   "execution_count": null,
   "id": "7c09381f",
   "metadata": {},
   "outputs": [],
   "source": [
    "param = {\n",
    "    'learning_rate':[.1,.01,.001],\n",
    "    'max_depth':[-1,3,4,5,6,7],\n",
    "    'n_estimators':[100,300,900],\n",
    "}"
   ]
  },
  {
   "cell_type": "code",
   "execution_count": null,
   "id": "145a0630",
   "metadata": {},
   "outputs": [],
   "source": [
    "# '''网格'''\n",
    "grid_cat = GridSearchCV(CatBoostClassifier(),param_grid=param,cv=3)\n",
    "grid_cat.fit(data.iloc[:,2:],data.label)\n",
    "\n",
    "grid_lgm = GridSearchCV(LGBMClassifier(),param_grid=param,cv=3)\n",
    "grid_lgm.fit(data.iloc[:,2:],data.label)\n",
    "\n",
    "grid_extra = GridSearchCV(ExtraTreesClassifier(),param_grid=param,cv=3)\n",
    "grid_extra.fit(data.iloc[:,2:],data.label)\n",
    "\n",
    "grid_xgb = GridSearchCV(XGBClassifier(),param_grid=param,cv=3)\n",
    "grid_xgb.fit(data.iloc[:,2:],data.label)"
   ]
  }
 ],
 "metadata": {
  "kernelspec": {
   "display_name": "Python 3.8.3 ('base')",
   "language": "python",
   "name": "python3"
  },
  "language_info": {
   "codemirror_mode": {
    "name": "ipython",
    "version": 3
   },
   "file_extension": ".py",
   "mimetype": "text/x-python",
   "name": "python",
   "nbconvert_exporter": "python",
   "pygments_lexer": "ipython3",
   "version": "3.8.3"
  },
  "toc": {
   "base_numbering": 1,
   "nav_menu": {},
   "number_sections": true,
   "sideBar": true,
   "skip_h1_title": false,
   "title_cell": "Table of Contents",
   "title_sidebar": "Contents",
   "toc_cell": false,
   "toc_position": {},
   "toc_section_display": true,
   "toc_window_display": false
  },
  "varInspector": {
   "cols": {
    "lenName": 16,
    "lenType": 16,
    "lenVar": 40
   },
   "kernels_config": {
    "python": {
     "delete_cmd_postfix": "",
     "delete_cmd_prefix": "del ",
     "library": "var_list.py",
     "varRefreshCmd": "print(var_dic_list())"
    },
    "r": {
     "delete_cmd_postfix": ") ",
     "delete_cmd_prefix": "rm(",
     "library": "var_list.r",
     "varRefreshCmd": "cat(var_dic_list()) "
    }
   },
   "types_to_exclude": [
    "module",
    "function",
    "builtin_function_or_method",
    "instance",
    "_Feature"
   ],
   "window_display": false
  },
  "vscode": {
   "interpreter": {
    "hash": "a71a9e4fb054fff428071484f7faa898cb9ecb31a518fe88e3463da9af879578"
   }
  }
 },
 "nbformat": 4,
 "nbformat_minor": 5
}
